{
  "nbformat": 4,
  "nbformat_minor": 0,
  "metadata": {
    "colab": {
      "provenance": [],
      "authorship_tag": "ABX9TyM6Kg9Mc2irklxfi/FhP8AJ",
      "include_colab_link": true
    },
    "kernelspec": {
      "name": "python3",
      "display_name": "Python 3"
    },
    "language_info": {
      "name": "python"
    }
  },
  "cells": [
    {
      "cell_type": "markdown",
      "metadata": {
        "id": "view-in-github",
        "colab_type": "text"
      },
      "source": [
        "<a href=\"https://colab.research.google.com/github/Ayussh1232/Project/blob/main/Untitled15.ipynb\" target=\"_parent\"><img src=\"https://colab.research.google.com/assets/colab-badge.svg\" alt=\"Open In Colab\"/></a>"
      ]
    },
    {
      "cell_type": "code",
      "execution_count": null,
      "metadata": {
        "id": "TMzc5d6lpjGg"
      },
      "outputs": [],
      "source": [
        "import pandas as pd\n",
        "import numpy as np\n",
        "import matplotlib.pyplot as plt\n",
        "import seaborn as sns\n",
        "\n",
        "df = pd.read_excel(\"rds1.xlsx\")\n",
        "df.head()"
      ]
    },
    {
      "cell_type": "code",
      "source": [
        "df=df.drop([\"servicename\",\"ApprovedDate\"],axis=1)\n",
        "df.head()"
      ],
      "metadata": {
        "id": "YVy_JsAKpp2M"
      },
      "execution_count": null,
      "outputs": []
    },
    {
      "cell_type": "code",
      "source": [
        "df[\"Age\"] = df[\"Age\"].apply(lambda x: x.split(\"Y\")[0])\n",
        "df.loc[df[\"Age\"].str.contains(\"D\"), \"Age\"] = 0\n",
        "df[\"Age\"] = df[\"Age\"].astype(int)\n",
        "df.head()"
      ],
      "metadata": {
        "id": "esF7F9c-pp0C"
      },
      "execution_count": null,
      "outputs": []
    },
    {
      "cell_type": "code",
      "source": [
        "df = df[(df[\"CPT\"]>=70000) & (df[\"CPT\"]<=79999)]\n",
        "df.head()\n"
      ],
      "metadata": {
        "id": "ELRwMfIYppxk"
      },
      "execution_count": null,
      "outputs": []
    },
    {
      "cell_type": "code",
      "source": [
        "df[\"ICD_yo\"] = df[\"ICD\"].apply(lambda x: x[:1])\n",
        "df.head()"
      ],
      "metadata": {
        "id": "LqstJgyRppu4"
      },
      "execution_count": null,
      "outputs": []
    },
    {
      "cell_type": "code",
      "source": [
        "from sklearn.preprocessing import LabelEncoder\n",
        "le = LabelEncoder()\n",
        "df[\"ICD_yo\"] = le.fit_transform(df[\"ICD_yo\"])\n",
        "df[\"ICD_yo\"].value_counts()"
      ],
      "metadata": {
        "id": "osJkhczkppsW"
      },
      "execution_count": null,
      "outputs": []
    },
    {
      "cell_type": "code",
      "source": [
        "df[\"Insurance\"].value_counts()"
      ],
      "metadata": {
        "id": "bnYW81bbpppv"
      },
      "execution_count": null,
      "outputs": []
    },
    {
      "cell_type": "code",
      "source": [
        "df['ICD_Main'] = df['ICD'].apply(lambda x: x.split('.')[0])\n",
        "\n",
        "# Frequency Encoding\n",
        "icd_freq = df['ICD_Main'].value_counts().to_dict()\n",
        "df['ICD_Freq'] = df['ICD_Main'].map(icd_freq)\n",
        "\n",
        "# Encode categorical variables\n",
        "df['Gender'] = df['Gender'].map({'Male': 0, 'Female': 1})\n",
        "\n",
        "# Convert 'Insurance' to binary\n",
        "df['Insurance'] = df['Insurance'].map({'Yes': 1, 'No': 0})\n",
        "df.head()"
      ],
      "metadata": {
        "id": "zXkAZyzOppnM"
      },
      "execution_count": null,
      "outputs": []
    },
    {
      "cell_type": "code",
      "source": [
        "df.head()"
      ],
      "metadata": {
        "id": "AWb7qKHwppT8"
      },
      "execution_count": null,
      "outputs": []
    },
    {
      "cell_type": "code",
      "source": [
        "def categorize_cpt(code):\n",
        "    if 70000 <= code < 71000:\n",
        "        return 'Diagnostic Radiology'\n",
        "    elif 71000 <= code < 72000:\n",
        "        return 'Diagnostic Imaging'\n",
        "    elif 72000 <= code < 73000:\n",
        "        return 'Other Radiology Procedures'\n",
        "    elif 73000 <= code < 74000:\n",
        "        return 'Musculoskeletal System Procedures'\n",
        "    elif 74000 <= code < 75000:\n",
        "        return 'Gastroenterology Procedures'\n",
        "    elif 75000 <= code < 76000:\n",
        "        return 'Genitourinary Procedures'\n",
        "    elif 76000 <= code < 77000:\n",
        "        return 'Obstetrical/Gynecological Procedures'\n",
        "    elif 77000 <= code < 78000:\n",
        "        return 'Other Diagnostic Services'\n",
        "    elif 78000 <= code < 79000:\n",
        "        return 'Other Diagnostic Services'\n",
        "    elif 79000 <= code < 80000:\n",
        "        return 'Other Services and '\n",
        "    else:\n",
        "        return 'Unknown'\n",
        "\n",
        "df['CPT_Category'] = df['CPT'].apply(categorize_cpt)\n",
        "df[\"CPT_Category\"].value_counts()\n"
      ],
      "metadata": {
        "id": "iKGLIKX0vndN"
      },
      "execution_count": null,
      "outputs": []
    },
    {
      "cell_type": "code",
      "source": [
        "df.head()"
      ],
      "metadata": {
        "id": "UP4bgYGBwXCZ"
      },
      "execution_count": null,
      "outputs": []
    },
    {
      "cell_type": "code",
      "source": [
        "df = pd.get_dummies(df, columns=['CPT_Category'], )\n",
        "df.head()"
      ],
      "metadata": {
        "id": "1Ui8BuBRwXAY"
      },
      "execution_count": null,
      "outputs": []
    },
    {
      "cell_type": "code",
      "source": [
        "df = df.applymap(lambda x: 1 if x == True else (0 if x == False else x))\n",
        "df.head()"
      ],
      "metadata": {
        "id": "sb0t8HZQwW9r"
      },
      "execution_count": null,
      "outputs": []
    },
    {
      "cell_type": "code",
      "source": [
        "df.columns"
      ],
      "metadata": {
        "id": "ykb6QGSYwWrs"
      },
      "execution_count": null,
      "outputs": []
    },
    {
      "cell_type": "code",
      "source": [
        "X= df[['CPT', 'ICD_Freq',\"Gender\",\"Age\"]]  # Features\n",
        "y= df[\"Insurance\"]  # Target variable\n",
        "\n",
        "from imblearn.over_sampling import SMOTE\n",
        "smote = SMOTE(random_state=42)\n",
        "X_resampled, y_resampled = smote.fit_resample(X, y)  # Pass features and target separately\n",
        "\n",
        "# Create a new DataFrame from resampled data if needed\n",
        "df2 = pd.DataFrame(X_resampled, columns=['CPT', 'ICD_Freq',\"Gender\",\"Age\"])\n",
        "df2['Insurance'] = y_resampled\n",
        "\n",
        "#sns.distplot(df2[df2[\"Insurance\"]==0][\"Age\"],hist=False,label=\"no\")\n",
        "#sns.distplot(df2[df2[\"Insurance\"]==1][\"Age\"],hist=False,label=\"yes\")\n",
        "#plt.legend()\n",
        "#plt.show()\n"
      ],
      "metadata": {
        "id": "fVRLoSaRp9No"
      },
      "execution_count": null,
      "outputs": []
    },
    {
      "cell_type": "markdown",
      "source": [
        "# **MODELS**"
      ],
      "metadata": {
        "id": "B3NpQFn9p-Wx"
      }
    },
    {
      "cell_type": "code",
      "source": [
        "from sklearn.model_selection import train_test_split\n",
        "X_train, X_test, y_train, y_test = train_test_split(X_resampled, y_resampled, test_size=0.2, random_state=42)\n",
        "\n",
        "from sklearn.tree import DecisionTreeClassifier\n",
        "from sklearn.metrics import accuracy_score, classification_report\n",
        "\n",
        "\n",
        "\n",
        "\n",
        "dt = DecisionTreeClassifier()\n",
        "dt.fit(X_train, y_train)\n",
        "\n",
        "y_pred = dt.predict(X_test)\n",
        "\n",
        "accuracy = accuracy_score(y_test, y_pred)\n",
        "print(\"Accuracy:\", accuracy)\n",
        "print(classification_report(y_test, y_pred))\n",
        "\n"
      ],
      "metadata": {
        "id": "DI9dR5h_p9Ld"
      },
      "execution_count": null,
      "outputs": []
    },
    {
      "cell_type": "code",
      "source": [
        "from sklearn.model_selection import train_test_split\n",
        "X_train, X_test, y_train, y_test = train_test_split(X_resampled, y_resampled, test_size=0.2, random_state=42)\n",
        "from sklearn.model_selection import GridSearchCV\n",
        "from sklearn.metrics import confusion_matrix\n",
        "from imblearn.over_sampling import SMOTE\n",
        "\n",
        "from sklearn.ensemble import GradientBoostingClassifier\n",
        "from sklearn.metrics import accuracy_score, classification_report\n",
        "\n",
        "\n",
        "gb = GradientBoostingClassifier()\n",
        "gb.fit(X_train, y_train)\n",
        "\n",
        "y_pred = gb.predict(X_test)\n",
        "\n",
        "accuracy = accuracy_score(y_test, y_pred)\n",
        "print(\"Accuracy:\", accuracy)\n",
        "print(classification_report(y_test, y_pred))\n",
        "\n",
        "\n",
        "\n"
      ],
      "metadata": {
        "id": "uCck6TOOp9JM"
      },
      "execution_count": null,
      "outputs": []
    },
    {
      "cell_type": "code",
      "source": [
        "from sklearn.model_selection import train_test_split\n",
        "X_train, X_test, y_train, y_test = train_test_split(X_resampled, y_resampled, test_size=0.2, random_state=42)\n",
        "\n",
        "from sklearn.ensemble import RandomForestClassifier\n",
        "from sklearn.metrics import accuracy_score, classification_report\n",
        "\n",
        "\n",
        "dt =  RandomForestClassifier()\n",
        "dt.fit(X_train, y_train)\n",
        "\n",
        "y_pred = dt.predict(X_test)\n",
        "\n",
        "accuracy = accuracy_score(y_test, y_pred)\n",
        "print(\"Accuracy:\", accuracy)\n",
        "print(classification_report(y_test, y_pred))"
      ],
      "metadata": {
        "id": "2UP5-U-rp9G2"
      },
      "execution_count": null,
      "outputs": []
    },
    {
      "cell_type": "code",
      "source": [
        "from sklearn.model_selection import train_test_split\n",
        "X_train, X_test, y_train, y_test = train_test_split(X_resampled, y_resampled, test_size=0.2, random_state=42)\n",
        "\n",
        "from sklearn.linear_model import LogisticRegression\n",
        "from sklearn.metrics import accuracy_score, classification_report\n",
        "from imblearn.over_sampling import SMOTE\n",
        "\n",
        "\n",
        "dt = LogisticRegression()\n",
        "dt.fit(X_train, y_train)\n",
        "\n",
        "y_pred = dt.predict(X_test)\n",
        "\n",
        "accuracy = accuracy_score(y_test, y_pred)\n",
        "print(\"Accuracy:\", accuracy)\n",
        "print(classification_report(y_test, y_pred))"
      ],
      "metadata": {
        "id": "2naFzqHmp9EM"
      },
      "execution_count": null,
      "outputs": []
    },
    {
      "cell_type": "code",
      "source": [
        "from sklearn.model_selection import train_test_split\n",
        "X_train, X_test, y_train, y_test = train_test_split(X_resampled, y_resampled, test_size=0.2, random_state=42)\n",
        "\n",
        "from sklearn.svm import SVC\n",
        "from sklearn.metrics import accuracy_score, classification_report\n",
        "\n",
        "\n",
        "svm = SVC(kernel='poly', random_state=42)\n",
        "\n",
        "# Define the parameter grid\n",
        "param_grid = {\n",
        "    'C': [0.1, 1, 10],\n",
        "    'degree': [2, 3, 4],\n",
        "    'gamma': ['scale', 'auto']  # You can adjust gamma as needed\n",
        "}\n",
        "\n",
        "# Initialize GridSearchCV\n",
        "grid_search = GridSearchCV(estimator=svm, param_grid=param_grid, cv=3, scoring='accuracy', n_jobs=-1)\n",
        "\n",
        "# Fit the grid search to the data\n",
        "grid_search.fit(X_train, y_train)\n",
        "\n",
        "# Print the best parameters found\n",
        "print(\"Best parameters found: \", grid_search.best_params_)\n",
        "\n",
        "# Evaluate the best model\n",
        "best_svm = grid_search.best_estimator_\n",
        "y_pred = best_svm.predict(X_test)\n",
        "\n",
        "# Print evaluation metrics\n",
        "print(\"Accuracy on test set: \", accuracy_score(y_test, y_pred))\n",
        "print(\"Classification report:\\n\", classification_report(y_test, y_pred))"
      ],
      "metadata": {
        "id": "cDlTGszHp9Bj"
      },
      "execution_count": null,
      "outputs": []
    },
    {
      "cell_type": "code",
      "source": [],
      "metadata": {
        "id": "zXabF5LaqRmF"
      },
      "execution_count": null,
      "outputs": []
    },
    {
      "cell_type": "code",
      "source": [],
      "metadata": {
        "id": "wkiGc355qRgb"
      },
      "execution_count": null,
      "outputs": []
    }
  ]
}